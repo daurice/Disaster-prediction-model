{
 "cells": [
  {
   "cell_type": "code",
   "execution_count": 1,
   "id": "b69905c2",
   "metadata": {
    "_cell_guid": "b1076dfc-b9ad-4769-8c92-a6c4dae69d19",
    "_uuid": "8f2839f25d086af736a60e9eeb907d3b93b6e0e5",
    "execution": {
     "iopub.execute_input": "2025-04-17T06:31:16.348189Z",
     "iopub.status.busy": "2025-04-17T06:31:16.347869Z",
     "iopub.status.idle": "2025-04-17T06:31:21.041100Z",
     "shell.execute_reply": "2025-04-17T06:31:21.039567Z"
    },
    "papermill": {
     "duration": 4.701011,
     "end_time": "2025-04-17T06:31:21.043450",
     "exception": false,
     "start_time": "2025-04-17T06:31:16.342439",
     "status": "completed"
    },
    "tags": []
   },
   "outputs": [
    {
     "name": "stdout",
     "output_type": "stream",
     "text": [
      "/kaggle/input/titanic/train.csv\n",
      "/kaggle/input/titanic/test.csv\n",
      "/kaggle/input/titanic/gender_submission.csv\n"
     ]
    }
   ],
   "source": [
    "# This Python 3 environment comes with many helpful analytics libraries installed\n",
    "# It is defined by the kaggle/python Docker image: https://github.com/kaggle/docker-python\n",
    "# For example, here's several helpful packages to load\n",
    "\n",
    "import numpy as np # linear algebra\n",
    "import pandas as pd # data processing, CSV file I/O (e.g. pd.read_csv)\n",
    "import seaborn as sns\n",
    "import matplotlib.pyplot as plt\n",
    "from sklearn.model_selection import train_test_split, StratifiedKFold, cross_val_score\n",
    "from sklearn.ensemble import RandomForestClassifier\n",
    "from sklearn.metrics import accuracy_score, f1_score\n",
    "from sklearn.preprocessing import LabelEncoder\n",
    "\n",
    "# Input data files are available in the read-only \"../input/\" directory\n",
    "# For example, running this (by clicking run or pressing Shift+Enter) will list all files under the input directory\n",
    "\n",
    "import os\n",
    "for dirname, _, filenames in os.walk('/kaggle/input'):\n",
    "    for filename in filenames:\n",
    "        print(os.path.join(dirname, filename))\n",
    "\n",
    "# You can write up to 20GB to the current directory (/kaggle/working/) that gets preserved as output when you create a version using \"Save & Run All\" \n",
    "# You can also write temporary files to /kaggle/temp/, but they won't be saved outside of the current session"
   ]
  },
  {
   "cell_type": "code",
   "execution_count": 2,
   "id": "2a5ddaca",
   "metadata": {
    "execution": {
     "iopub.execute_input": "2025-04-17T06:31:21.052371Z",
     "iopub.status.busy": "2025-04-17T06:31:21.051902Z",
     "iopub.status.idle": "2025-04-17T06:31:21.088719Z",
     "shell.execute_reply": "2025-04-17T06:31:21.087752Z"
    },
    "papermill": {
     "duration": 0.043245,
     "end_time": "2025-04-17T06:31:21.090490",
     "exception": false,
     "start_time": "2025-04-17T06:31:21.047245",
     "status": "completed"
    },
    "tags": []
   },
   "outputs": [],
   "source": [
    "# Load data\n",
    "train = pd.read_csv('/kaggle/input/titanic/train.csv')\n",
    "test = pd.read_csv('/kaggle/input/titanic/test.csv')\n",
    "gender=pd.read_csv('/kaggle/input/titanic/gender_submission.csv')"
   ]
  },
  {
   "cell_type": "code",
   "execution_count": 3,
   "id": "1f7f10bc",
   "metadata": {
    "execution": {
     "iopub.execute_input": "2025-04-17T06:31:21.098252Z",
     "iopub.status.busy": "2025-04-17T06:31:21.097930Z",
     "iopub.status.idle": "2025-04-17T06:31:21.114101Z",
     "shell.execute_reply": "2025-04-17T06:31:21.113138Z"
    },
    "papermill": {
     "duration": 0.021883,
     "end_time": "2025-04-17T06:31:21.115762",
     "exception": false,
     "start_time": "2025-04-17T06:31:21.093879",
     "status": "completed"
    },
    "tags": []
   },
   "outputs": [],
   "source": [
    "# Combine train and test for uniform processing\n",
    "data = pd.concat([train, test], sort=False)"
   ]
  },
  {
   "cell_type": "code",
   "execution_count": 4,
   "id": "e53d6d61",
   "metadata": {
    "execution": {
     "iopub.execute_input": "2025-04-17T06:31:21.123817Z",
     "iopub.status.busy": "2025-04-17T06:31:21.123476Z",
     "iopub.status.idle": "2025-04-17T06:31:21.137740Z",
     "shell.execute_reply": "2025-04-17T06:31:21.136707Z"
    },
    "papermill": {
     "duration": 0.020632,
     "end_time": "2025-04-17T06:31:21.139660",
     "exception": false,
     "start_time": "2025-04-17T06:31:21.119028",
     "status": "completed"
    },
    "tags": []
   },
   "outputs": [],
   "source": [
    "# Feature Engineering\n",
    "data['Title'] = data['Name'].str.extract(' ([A-Za-z]+)\\.', expand=False)\n",
    "data['Title'] = data['Title'].replace(['Lady', 'Countess','Capt', 'Col',                                        'Don', 'Dr', 'Major', 'Rev', 'Sir', 'Jonkheer', 'Dona'], 'Rare')\n",
    "data['Title'] = data['Title'].replace('Mlle', 'Miss')\n",
    "data['Title'] = data['Title'].replace('Ms', 'Miss')\n",
    "data['Title'] = data['Title'].replace('Mme', 'Mrs')"
   ]
  },
  {
   "cell_type": "code",
   "execution_count": 5,
   "id": "363edd39",
   "metadata": {
    "execution": {
     "iopub.execute_input": "2025-04-17T06:31:21.147870Z",
     "iopub.status.busy": "2025-04-17T06:31:21.147132Z",
     "iopub.status.idle": "2025-04-17T06:31:21.153058Z",
     "shell.execute_reply": "2025-04-17T06:31:21.152077Z"
    },
    "papermill": {
     "duration": 0.011753,
     "end_time": "2025-04-17T06:31:21.154736",
     "exception": false,
     "start_time": "2025-04-17T06:31:21.142983",
     "status": "completed"
    },
    "tags": []
   },
   "outputs": [],
   "source": [
    "data['Sex'] = LabelEncoder().fit_transform(data['Sex'])"
   ]
  },
  {
   "cell_type": "code",
   "execution_count": 6,
   "id": "b783fcfa",
   "metadata": {
    "execution": {
     "iopub.execute_input": "2025-04-17T06:31:21.164092Z",
     "iopub.status.busy": "2025-04-17T06:31:21.163278Z",
     "iopub.status.idle": "2025-04-17T06:31:21.173719Z",
     "shell.execute_reply": "2025-04-17T06:31:21.172581Z"
    },
    "papermill": {
     "duration": 0.016127,
     "end_time": "2025-04-17T06:31:21.175337",
     "exception": false,
     "start_time": "2025-04-17T06:31:21.159210",
     "status": "completed"
    },
    "tags": []
   },
   "outputs": [
    {
     "name": "stderr",
     "output_type": "stream",
     "text": [
      "/tmp/ipykernel_13/4085404535.py:2: FutureWarning: A value is trying to be set on a copy of a DataFrame or Series through chained assignment using an inplace method.\n",
      "The behavior will change in pandas 3.0. This inplace method will never work because the intermediate object on which we are setting values always behaves as a copy.\n",
      "\n",
      "For example, when doing 'df[col].method(value, inplace=True)', try using 'df.method({col: value}, inplace=True)' or df[col] = df[col].method(value) instead, to perform the operation inplace on the original object.\n",
      "\n",
      "\n",
      "  data['Age'].fillna(data['Age'].median(), inplace=True)\n",
      "/tmp/ipykernel_13/4085404535.py:3: FutureWarning: A value is trying to be set on a copy of a DataFrame or Series through chained assignment using an inplace method.\n",
      "The behavior will change in pandas 3.0. This inplace method will never work because the intermediate object on which we are setting values always behaves as a copy.\n",
      "\n",
      "For example, when doing 'df[col].method(value, inplace=True)', try using 'df.method({col: value}, inplace=True)' or df[col] = df[col].method(value) instead, to perform the operation inplace on the original object.\n",
      "\n",
      "\n",
      "  data['Embarked'].fillna(data['Embarked'].mode()[0], inplace=True)\n",
      "/tmp/ipykernel_13/4085404535.py:4: FutureWarning: A value is trying to be set on a copy of a DataFrame or Series through chained assignment using an inplace method.\n",
      "The behavior will change in pandas 3.0. This inplace method will never work because the intermediate object on which we are setting values always behaves as a copy.\n",
      "\n",
      "For example, when doing 'df[col].method(value, inplace=True)', try using 'df.method({col: value}, inplace=True)' or df[col] = df[col].method(value) instead, to perform the operation inplace on the original object.\n",
      "\n",
      "\n",
      "  data['Fare'].fillna(data['Fare'].median(), inplace=True)\n"
     ]
    }
   ],
   "source": [
    "# Fill missing values\n",
    "data['Age'].fillna(data['Age'].median(), inplace=True)\n",
    "data['Embarked'].fillna(data['Embarked'].mode()[0], inplace=True)\n",
    "data['Fare'].fillna(data['Fare'].median(), inplace=True)\n"
   ]
  },
  {
   "cell_type": "code",
   "execution_count": 7,
   "id": "98469929",
   "metadata": {
    "execution": {
     "iopub.execute_input": "2025-04-17T06:31:21.183226Z",
     "iopub.status.busy": "2025-04-17T06:31:21.182912Z",
     "iopub.status.idle": "2025-04-17T06:31:21.190479Z",
     "shell.execute_reply": "2025-04-17T06:31:21.189676Z"
    },
    "papermill": {
     "duration": 0.013468,
     "end_time": "2025-04-17T06:31:21.192184",
     "exception": false,
     "start_time": "2025-04-17T06:31:21.178716",
     "status": "completed"
    },
    "tags": []
   },
   "outputs": [],
   "source": [
    "# Family Size and Alone\n",
    "data['FamilySize'] = data['SibSp'] + data['Parch'] + 1\n",
    "data['IsAlone'] = 1\n",
    "data.loc[data['FamilySize'] > 1, 'IsAlone'] = 0"
   ]
  },
  {
   "cell_type": "code",
   "execution_count": 8,
   "id": "3461ae77",
   "metadata": {
    "execution": {
     "iopub.execute_input": "2025-04-17T06:31:21.200051Z",
     "iopub.status.busy": "2025-04-17T06:31:21.199736Z",
     "iopub.status.idle": "2025-04-17T06:31:21.207496Z",
     "shell.execute_reply": "2025-04-17T06:31:21.206500Z"
    },
    "papermill": {
     "duration": 0.013692,
     "end_time": "2025-04-17T06:31:21.209172",
     "exception": false,
     "start_time": "2025-04-17T06:31:21.195480",
     "status": "completed"
    },
    "tags": []
   },
   "outputs": [],
   "source": [
    "# Extract first letter of Cabin\n",
    "data['Cabin'] = data['Cabin'].fillna('Unknown')\n",
    "data['CabinLetter'] = data['Cabin'].apply(lambda x: x[0] if x != 'Unknown' else 'U')"
   ]
  },
  {
   "cell_type": "code",
   "execution_count": 9,
   "id": "90a9c24d",
   "metadata": {
    "execution": {
     "iopub.execute_input": "2025-04-17T06:31:21.217218Z",
     "iopub.status.busy": "2025-04-17T06:31:21.216923Z",
     "iopub.status.idle": "2025-04-17T06:31:21.236036Z",
     "shell.execute_reply": "2025-04-17T06:31:21.235194Z"
    },
    "papermill": {
     "duration": 0.025425,
     "end_time": "2025-04-17T06:31:21.238004",
     "exception": false,
     "start_time": "2025-04-17T06:31:21.212579",
     "status": "completed"
    },
    "tags": []
   },
   "outputs": [],
   "source": [
    "# One-hot encode categorical variables\n",
    "data = pd.get_dummies(data, columns=['Embarked', 'Title', 'CabinLetter'], drop_first=True)"
   ]
  },
  {
   "cell_type": "code",
   "execution_count": 10,
   "id": "e3911173",
   "metadata": {
    "execution": {
     "iopub.execute_input": "2025-04-17T06:31:21.246170Z",
     "iopub.status.busy": "2025-04-17T06:31:21.245809Z",
     "iopub.status.idle": "2025-04-17T06:31:21.253577Z",
     "shell.execute_reply": "2025-04-17T06:31:21.252479Z"
    },
    "papermill": {
     "duration": 0.014186,
     "end_time": "2025-04-17T06:31:21.255544",
     "exception": false,
     "start_time": "2025-04-17T06:31:21.241358",
     "status": "completed"
    },
    "tags": []
   },
   "outputs": [],
   "source": [
    "# Drop unused features\n",
    "data.drop(['PassengerId', 'Name', 'Ticket', 'Cabin'], axis=1, inplace=True)"
   ]
  },
  {
   "cell_type": "code",
   "execution_count": 11,
   "id": "a027a07d",
   "metadata": {
    "execution": {
     "iopub.execute_input": "2025-04-17T06:31:21.263947Z",
     "iopub.status.busy": "2025-04-17T06:31:21.263592Z",
     "iopub.status.idle": "2025-04-17T06:31:21.268391Z",
     "shell.execute_reply": "2025-04-17T06:31:21.267563Z"
    },
    "papermill": {
     "duration": 0.010644,
     "end_time": "2025-04-17T06:31:21.270063",
     "exception": false,
     "start_time": "2025-04-17T06:31:21.259419",
     "status": "completed"
    },
    "tags": []
   },
   "outputs": [],
   "source": [
    "# Split back into train and test\n",
    "train_cleaned = data[:len(train)]\n",
    "test_cleaned = data[len(train):]\n"
   ]
  },
  {
   "cell_type": "code",
   "execution_count": 12,
   "id": "891f477a",
   "metadata": {
    "execution": {
     "iopub.execute_input": "2025-04-17T06:31:21.278866Z",
     "iopub.status.busy": "2025-04-17T06:31:21.277806Z",
     "iopub.status.idle": "2025-04-17T06:31:21.283850Z",
     "shell.execute_reply": "2025-04-17T06:31:21.282777Z"
    },
    "papermill": {
     "duration": 0.011786,
     "end_time": "2025-04-17T06:31:21.285512",
     "exception": false,
     "start_time": "2025-04-17T06:31:21.273726",
     "status": "completed"
    },
    "tags": []
   },
   "outputs": [],
   "source": [
    "X = train_cleaned.drop('Survived', axis=1)\n",
    "y = train_cleaned['Survived']"
   ]
  },
  {
   "cell_type": "code",
   "execution_count": 13,
   "id": "2c6d2815",
   "metadata": {
    "execution": {
     "iopub.execute_input": "2025-04-17T06:31:21.293531Z",
     "iopub.status.busy": "2025-04-17T06:31:21.293201Z",
     "iopub.status.idle": "2025-04-17T06:31:23.209137Z",
     "shell.execute_reply": "2025-04-17T06:31:23.207915Z"
    },
    "papermill": {
     "duration": 1.921999,
     "end_time": "2025-04-17T06:31:23.210902",
     "exception": false,
     "start_time": "2025-04-17T06:31:21.288903",
     "status": "completed"
    },
    "tags": []
   },
   "outputs": [
    {
     "name": "stdout",
     "output_type": "stream",
     "text": [
      "F1 Score (CV Avg): 0.7541\n",
      "Accuracy Score (CV Avg): 0.8148\n"
     ]
    }
   ],
   "source": [
    "# Train a RandomForest with cross-validation\n",
    "model = RandomForestClassifier(n_estimators=100, random_state=42)\n",
    "cv = StratifiedKFold(n_splits=5, shuffle=True, random_state=42)\n",
    "f1 = cross_val_score(model, X, y, cv=cv, scoring='f1')\n",
    "accuracy = cross_val_score(model, X, y, cv=cv, scoring='accuracy')\n",
    "print(f\"F1 Score (CV Avg): {f1.mean():.4f}\")\n",
    "print(f\"Accuracy Score (CV Avg): {accuracy.mean():.4f}\")"
   ]
  },
  {
   "cell_type": "code",
   "execution_count": 14,
   "id": "ca174451",
   "metadata": {
    "execution": {
     "iopub.execute_input": "2025-04-17T06:31:23.221289Z",
     "iopub.status.busy": "2025-04-17T06:31:23.220956Z",
     "iopub.status.idle": "2025-04-17T06:31:23.433485Z",
     "shell.execute_reply": "2025-04-17T06:31:23.432533Z"
    },
    "papermill": {
     "duration": 0.218767,
     "end_time": "2025-04-17T06:31:23.435332",
     "exception": false,
     "start_time": "2025-04-17T06:31:23.216565",
     "status": "completed"
    },
    "tags": []
   },
   "outputs": [
    {
     "data": {
      "text/html": [
       "<style>#sk-container-id-1 {color: black;background-color: white;}#sk-container-id-1 pre{padding: 0;}#sk-container-id-1 div.sk-toggleable {background-color: white;}#sk-container-id-1 label.sk-toggleable__label {cursor: pointer;display: block;width: 100%;margin-bottom: 0;padding: 0.3em;box-sizing: border-box;text-align: center;}#sk-container-id-1 label.sk-toggleable__label-arrow:before {content: \"▸\";float: left;margin-right: 0.25em;color: #696969;}#sk-container-id-1 label.sk-toggleable__label-arrow:hover:before {color: black;}#sk-container-id-1 div.sk-estimator:hover label.sk-toggleable__label-arrow:before {color: black;}#sk-container-id-1 div.sk-toggleable__content {max-height: 0;max-width: 0;overflow: hidden;text-align: left;background-color: #f0f8ff;}#sk-container-id-1 div.sk-toggleable__content pre {margin: 0.2em;color: black;border-radius: 0.25em;background-color: #f0f8ff;}#sk-container-id-1 input.sk-toggleable__control:checked~div.sk-toggleable__content {max-height: 200px;max-width: 100%;overflow: auto;}#sk-container-id-1 input.sk-toggleable__control:checked~label.sk-toggleable__label-arrow:before {content: \"▾\";}#sk-container-id-1 div.sk-estimator input.sk-toggleable__control:checked~label.sk-toggleable__label {background-color: #d4ebff;}#sk-container-id-1 div.sk-label input.sk-toggleable__control:checked~label.sk-toggleable__label {background-color: #d4ebff;}#sk-container-id-1 input.sk-hidden--visually {border: 0;clip: rect(1px 1px 1px 1px);clip: rect(1px, 1px, 1px, 1px);height: 1px;margin: -1px;overflow: hidden;padding: 0;position: absolute;width: 1px;}#sk-container-id-1 div.sk-estimator {font-family: monospace;background-color: #f0f8ff;border: 1px dotted black;border-radius: 0.25em;box-sizing: border-box;margin-bottom: 0.5em;}#sk-container-id-1 div.sk-estimator:hover {background-color: #d4ebff;}#sk-container-id-1 div.sk-parallel-item::after {content: \"\";width: 100%;border-bottom: 1px solid gray;flex-grow: 1;}#sk-container-id-1 div.sk-label:hover label.sk-toggleable__label {background-color: #d4ebff;}#sk-container-id-1 div.sk-serial::before {content: \"\";position: absolute;border-left: 1px solid gray;box-sizing: border-box;top: 0;bottom: 0;left: 50%;z-index: 0;}#sk-container-id-1 div.sk-serial {display: flex;flex-direction: column;align-items: center;background-color: white;padding-right: 0.2em;padding-left: 0.2em;position: relative;}#sk-container-id-1 div.sk-item {position: relative;z-index: 1;}#sk-container-id-1 div.sk-parallel {display: flex;align-items: stretch;justify-content: center;background-color: white;position: relative;}#sk-container-id-1 div.sk-item::before, #sk-container-id-1 div.sk-parallel-item::before {content: \"\";position: absolute;border-left: 1px solid gray;box-sizing: border-box;top: 0;bottom: 0;left: 50%;z-index: -1;}#sk-container-id-1 div.sk-parallel-item {display: flex;flex-direction: column;z-index: 1;position: relative;background-color: white;}#sk-container-id-1 div.sk-parallel-item:first-child::after {align-self: flex-end;width: 50%;}#sk-container-id-1 div.sk-parallel-item:last-child::after {align-self: flex-start;width: 50%;}#sk-container-id-1 div.sk-parallel-item:only-child::after {width: 0;}#sk-container-id-1 div.sk-dashed-wrapped {border: 1px dashed gray;margin: 0 0.4em 0.5em 0.4em;box-sizing: border-box;padding-bottom: 0.4em;background-color: white;}#sk-container-id-1 div.sk-label label {font-family: monospace;font-weight: bold;display: inline-block;line-height: 1.2em;}#sk-container-id-1 div.sk-label-container {text-align: center;}#sk-container-id-1 div.sk-container {/* jupyter's `normalize.less` sets `[hidden] { display: none; }` but bootstrap.min.css set `[hidden] { display: none !important; }` so we also need the `!important` here to be able to override the default hidden behavior on the sphinx rendered scikit-learn.org. See: https://github.com/scikit-learn/scikit-learn/issues/21755 */display: inline-block !important;position: relative;}#sk-container-id-1 div.sk-text-repr-fallback {display: none;}</style><div id=\"sk-container-id-1\" class=\"sk-top-container\"><div class=\"sk-text-repr-fallback\"><pre>RandomForestClassifier(random_state=42)</pre><b>In a Jupyter environment, please rerun this cell to show the HTML representation or trust the notebook. <br />On GitHub, the HTML representation is unable to render, please try loading this page with nbviewer.org.</b></div><div class=\"sk-container\" hidden><div class=\"sk-item\"><div class=\"sk-estimator sk-toggleable\"><input class=\"sk-toggleable__control sk-hidden--visually\" id=\"sk-estimator-id-1\" type=\"checkbox\" checked><label for=\"sk-estimator-id-1\" class=\"sk-toggleable__label sk-toggleable__label-arrow\">RandomForestClassifier</label><div class=\"sk-toggleable__content\"><pre>RandomForestClassifier(random_state=42)</pre></div></div></div></div></div>"
      ],
      "text/plain": [
       "RandomForestClassifier(random_state=42)"
      ]
     },
     "execution_count": 14,
     "metadata": {},
     "output_type": "execute_result"
    }
   ],
   "source": [
    "model.fit(X, y)"
   ]
  }
 ],
 "metadata": {
  "kaggle": {
   "accelerator": "none",
   "dataSources": [
    {
     "databundleVersionId": 26502,
     "sourceId": 3136,
     "sourceType": "competition"
    }
   ],
   "dockerImageVersionId": 31012,
   "isGpuEnabled": false,
   "isInternetEnabled": true,
   "language": "python",
   "sourceType": "notebook"
  },
  "kernelspec": {
   "display_name": "Python 3",
   "language": "python",
   "name": "python3"
  },
  "language_info": {
   "codemirror_mode": {
    "name": "ipython",
    "version": 3
   },
   "file_extension": ".py",
   "mimetype": "text/x-python",
   "name": "python",
   "nbconvert_exporter": "python",
   "pygments_lexer": "ipython3",
   "version": "3.11.11"
  },
  "papermill": {
   "default_parameters": {},
   "duration": 12.9758,
   "end_time": "2025-04-17T06:31:24.160873",
   "environment_variables": {},
   "exception": null,
   "input_path": "__notebook__.ipynb",
   "output_path": "__notebook__.ipynb",
   "parameters": {},
   "start_time": "2025-04-17T06:31:11.185073",
   "version": "2.6.0"
  }
 },
 "nbformat": 4,
 "nbformat_minor": 5
}
