{
 "cells": [
  {
   "cell_type": "code",
   "execution_count": 1,
   "id": "28485393",
   "metadata": {
    "_cell_guid": "b1076dfc-b9ad-4769-8c92-a6c4dae69d19",
    "_uuid": "8f2839f25d086af736a60e9eeb907d3b93b6e0e5",
    "execution": {
     "iopub.execute_input": "2025-04-17T06:21:32.551211Z",
     "iopub.status.busy": "2025-04-17T06:21:32.550868Z",
     "iopub.status.idle": "2025-04-17T06:21:37.403349Z",
     "shell.execute_reply": "2025-04-17T06:21:37.402216Z"
    },
    "papermill": {
     "duration": 4.859245,
     "end_time": "2025-04-17T06:21:37.405076",
     "exception": false,
     "start_time": "2025-04-17T06:21:32.545831",
     "status": "completed"
    },
    "tags": []
   },
   "outputs": [
    {
     "name": "stdout",
     "output_type": "stream",
     "text": [
      "/kaggle/input/titanic/train.csv\n",
      "/kaggle/input/titanic/test.csv\n",
      "/kaggle/input/titanic/gender_submission.csv\n"
     ]
    }
   ],
   "source": [
    "# This Python 3 environment comes with many helpful analytics libraries installed\n",
    "# It is defined by the kaggle/python Docker image: https://github.com/kaggle/docker-python\n",
    "# For example, here's several helpful packages to load\n",
    "\n",
    "import numpy as np # linear algebra\n",
    "import pandas as pd # data processing, CSV file I/O (e.g. pd.read_csv)\n",
    "import seaborn as sns\n",
    "import matplotlib.pyplot as plt\n",
    "from sklearn.model_selection import train_test_split, StratifiedKFold, cross_val_score\n",
    "from sklearn.ensemble import RandomForestClassifier\n",
    "from sklearn.metrics import accuracy_score, f1_score\n",
    "from sklearn.preprocessing import LabelEncoder\n",
    "\n",
    "# Input data files are available in the read-only \"../input/\" directory\n",
    "# For example, running this (by clicking run or pressing Shift+Enter) will list all files under the input directory\n",
    "\n",
    "import os\n",
    "for dirname, _, filenames in os.walk('/kaggle/input'):\n",
    "    for filename in filenames:\n",
    "        print(os.path.join(dirname, filename))\n",
    "\n",
    "# You can write up to 20GB to the current directory (/kaggle/working/) that gets preserved as output when you create a version using \"Save & Run All\" \n",
    "# You can also write temporary files to /kaggle/temp/, but they won't be saved outside of the current session"
   ]
  },
  {
   "cell_type": "code",
   "execution_count": 2,
   "id": "1344b0de",
   "metadata": {
    "execution": {
     "iopub.execute_input": "2025-04-17T06:21:37.413108Z",
     "iopub.status.busy": "2025-04-17T06:21:37.412613Z",
     "iopub.status.idle": "2025-04-17T06:21:37.451348Z",
     "shell.execute_reply": "2025-04-17T06:21:37.450342Z"
    },
    "papermill": {
     "duration": 0.04463,
     "end_time": "2025-04-17T06:21:37.453122",
     "exception": false,
     "start_time": "2025-04-17T06:21:37.408492",
     "status": "completed"
    },
    "tags": []
   },
   "outputs": [],
   "source": [
    "# Load data\n",
    "train = pd.read_csv('/kaggle/input/titanic/train.csv')\n",
    "test = pd.read_csv('/kaggle/input/titanic/test.csv')\n",
    "gender=pd.read_csv('/kaggle/input/titanic/gender_submission.csv')"
   ]
  },
  {
   "cell_type": "code",
   "execution_count": 3,
   "id": "9349e59a",
   "metadata": {
    "execution": {
     "iopub.execute_input": "2025-04-17T06:21:37.461134Z",
     "iopub.status.busy": "2025-04-17T06:21:37.460822Z",
     "iopub.status.idle": "2025-04-17T06:21:37.476504Z",
     "shell.execute_reply": "2025-04-17T06:21:37.475608Z"
    },
    "papermill": {
     "duration": 0.021451,
     "end_time": "2025-04-17T06:21:37.477999",
     "exception": false,
     "start_time": "2025-04-17T06:21:37.456548",
     "status": "completed"
    },
    "tags": []
   },
   "outputs": [],
   "source": [
    "# Combine train and test for uniform processing\n",
    "data = pd.concat([train, test], sort=False)"
   ]
  },
  {
   "cell_type": "code",
   "execution_count": 4,
   "id": "7954f9b9",
   "metadata": {
    "execution": {
     "iopub.execute_input": "2025-04-17T06:21:37.485975Z",
     "iopub.status.busy": "2025-04-17T06:21:37.485648Z",
     "iopub.status.idle": "2025-04-17T06:21:37.501608Z",
     "shell.execute_reply": "2025-04-17T06:21:37.500189Z"
    },
    "papermill": {
     "duration": 0.022051,
     "end_time": "2025-04-17T06:21:37.503414",
     "exception": false,
     "start_time": "2025-04-17T06:21:37.481363",
     "status": "completed"
    },
    "tags": []
   },
   "outputs": [],
   "source": [
    "# Feature Engineering\n",
    "data['Title'] = data['Name'].str.extract(' ([A-Za-z]+)\\.', expand=False)\n",
    "data['Title'] = data['Title'].replace(['Lady', 'Countess','Capt', 'Col',                                        'Don', 'Dr', 'Major', 'Rev', 'Sir', 'Jonkheer', 'Dona'], 'Rare')\n",
    "data['Title'] = data['Title'].replace('Mlle', 'Miss')\n",
    "data['Title'] = data['Title'].replace('Ms', 'Miss')\n",
    "data['Title'] = data['Title'].replace('Mme', 'Mrs')"
   ]
  },
  {
   "cell_type": "code",
   "execution_count": 5,
   "id": "f389d8fc",
   "metadata": {
    "execution": {
     "iopub.execute_input": "2025-04-17T06:21:37.511309Z",
     "iopub.status.busy": "2025-04-17T06:21:37.510952Z",
     "iopub.status.idle": "2025-04-17T06:21:37.516956Z",
     "shell.execute_reply": "2025-04-17T06:21:37.515967Z"
    },
    "papermill": {
     "duration": 0.011932,
     "end_time": "2025-04-17T06:21:37.518669",
     "exception": false,
     "start_time": "2025-04-17T06:21:37.506737",
     "status": "completed"
    },
    "tags": []
   },
   "outputs": [],
   "source": [
    "data['Sex'] = LabelEncoder().fit_transform(data['Sex'])"
   ]
  },
  {
   "cell_type": "code",
   "execution_count": 6,
   "id": "52468962",
   "metadata": {
    "execution": {
     "iopub.execute_input": "2025-04-17T06:21:37.527618Z",
     "iopub.status.busy": "2025-04-17T06:21:37.527303Z",
     "iopub.status.idle": "2025-04-17T06:21:37.537071Z",
     "shell.execute_reply": "2025-04-17T06:21:37.536138Z"
    },
    "papermill": {
     "duration": 0.015476,
     "end_time": "2025-04-17T06:21:37.538755",
     "exception": false,
     "start_time": "2025-04-17T06:21:37.523279",
     "status": "completed"
    },
    "tags": []
   },
   "outputs": [
    {
     "name": "stderr",
     "output_type": "stream",
     "text": [
      "/tmp/ipykernel_13/4085404535.py:2: FutureWarning: A value is trying to be set on a copy of a DataFrame or Series through chained assignment using an inplace method.\n",
      "The behavior will change in pandas 3.0. This inplace method will never work because the intermediate object on which we are setting values always behaves as a copy.\n",
      "\n",
      "For example, when doing 'df[col].method(value, inplace=True)', try using 'df.method({col: value}, inplace=True)' or df[col] = df[col].method(value) instead, to perform the operation inplace on the original object.\n",
      "\n",
      "\n",
      "  data['Age'].fillna(data['Age'].median(), inplace=True)\n",
      "/tmp/ipykernel_13/4085404535.py:3: FutureWarning: A value is trying to be set on a copy of a DataFrame or Series through chained assignment using an inplace method.\n",
      "The behavior will change in pandas 3.0. This inplace method will never work because the intermediate object on which we are setting values always behaves as a copy.\n",
      "\n",
      "For example, when doing 'df[col].method(value, inplace=True)', try using 'df.method({col: value}, inplace=True)' or df[col] = df[col].method(value) instead, to perform the operation inplace on the original object.\n",
      "\n",
      "\n",
      "  data['Embarked'].fillna(data['Embarked'].mode()[0], inplace=True)\n",
      "/tmp/ipykernel_13/4085404535.py:4: FutureWarning: A value is trying to be set on a copy of a DataFrame or Series through chained assignment using an inplace method.\n",
      "The behavior will change in pandas 3.0. This inplace method will never work because the intermediate object on which we are setting values always behaves as a copy.\n",
      "\n",
      "For example, when doing 'df[col].method(value, inplace=True)', try using 'df.method({col: value}, inplace=True)' or df[col] = df[col].method(value) instead, to perform the operation inplace on the original object.\n",
      "\n",
      "\n",
      "  data['Fare'].fillna(data['Fare'].median(), inplace=True)\n"
     ]
    }
   ],
   "source": [
    "# Fill missing values\n",
    "data['Age'].fillna(data['Age'].median(), inplace=True)\n",
    "data['Embarked'].fillna(data['Embarked'].mode()[0], inplace=True)\n",
    "data['Fare'].fillna(data['Fare'].median(), inplace=True)\n"
   ]
  },
  {
   "cell_type": "code",
   "execution_count": 7,
   "id": "19496112",
   "metadata": {
    "execution": {
     "iopub.execute_input": "2025-04-17T06:21:37.547139Z",
     "iopub.status.busy": "2025-04-17T06:21:37.546828Z",
     "iopub.status.idle": "2025-04-17T06:21:37.555364Z",
     "shell.execute_reply": "2025-04-17T06:21:37.554299Z"
    },
    "papermill": {
     "duration": 0.014831,
     "end_time": "2025-04-17T06:21:37.557036",
     "exception": false,
     "start_time": "2025-04-17T06:21:37.542205",
     "status": "completed"
    },
    "tags": []
   },
   "outputs": [],
   "source": [
    "# Family Size and Alone\n",
    "data['FamilySize'] = data['SibSp'] + data['Parch'] + 1\n",
    "data['IsAlone'] = 1\n",
    "data.loc[data['FamilySize'] > 1, 'IsAlone'] = 0"
   ]
  },
  {
   "cell_type": "code",
   "execution_count": 8,
   "id": "92df591a",
   "metadata": {
    "execution": {
     "iopub.execute_input": "2025-04-17T06:21:37.566200Z",
     "iopub.status.busy": "2025-04-17T06:21:37.565405Z",
     "iopub.status.idle": "2025-04-17T06:21:37.573829Z",
     "shell.execute_reply": "2025-04-17T06:21:37.572900Z"
    },
    "papermill": {
     "duration": 0.014891,
     "end_time": "2025-04-17T06:21:37.575308",
     "exception": false,
     "start_time": "2025-04-17T06:21:37.560417",
     "status": "completed"
    },
    "tags": []
   },
   "outputs": [],
   "source": [
    "# Extract first letter of Cabin\n",
    "data['Cabin'] = data['Cabin'].fillna('Unknown')\n",
    "data['CabinLetter'] = data['Cabin'].apply(lambda x: x[0] if x != 'Unknown' else 'U')"
   ]
  },
  {
   "cell_type": "code",
   "execution_count": 9,
   "id": "2ae300e8",
   "metadata": {
    "execution": {
     "iopub.execute_input": "2025-04-17T06:21:37.583049Z",
     "iopub.status.busy": "2025-04-17T06:21:37.582653Z",
     "iopub.status.idle": "2025-04-17T06:21:37.600171Z",
     "shell.execute_reply": "2025-04-17T06:21:37.599232Z"
    },
    "papermill": {
     "duration": 0.023353,
     "end_time": "2025-04-17T06:21:37.601956",
     "exception": false,
     "start_time": "2025-04-17T06:21:37.578603",
     "status": "completed"
    },
    "tags": []
   },
   "outputs": [],
   "source": [
    "# One-hot encode categorical variables\n",
    "data = pd.get_dummies(data, columns=['Embarked', 'Title', 'CabinLetter'], drop_first=True)"
   ]
  },
  {
   "cell_type": "code",
   "execution_count": 10,
   "id": "c6e705b2",
   "metadata": {
    "execution": {
     "iopub.execute_input": "2025-04-17T06:21:37.609605Z",
     "iopub.status.busy": "2025-04-17T06:21:37.609276Z",
     "iopub.status.idle": "2025-04-17T06:21:37.616118Z",
     "shell.execute_reply": "2025-04-17T06:21:37.615230Z"
    },
    "papermill": {
     "duration": 0.012422,
     "end_time": "2025-04-17T06:21:37.617576",
     "exception": false,
     "start_time": "2025-04-17T06:21:37.605154",
     "status": "completed"
    },
    "tags": []
   },
   "outputs": [],
   "source": [
    "# Drop unused features\n",
    "data.drop(['PassengerId', 'Name', 'Ticket', 'Cabin'], axis=1, inplace=True)"
   ]
  },
  {
   "cell_type": "code",
   "execution_count": 11,
   "id": "a177608e",
   "metadata": {
    "execution": {
     "iopub.execute_input": "2025-04-17T06:21:37.625708Z",
     "iopub.status.busy": "2025-04-17T06:21:37.625377Z",
     "iopub.status.idle": "2025-04-17T06:21:37.630511Z",
     "shell.execute_reply": "2025-04-17T06:21:37.629582Z"
    },
    "papermill": {
     "duration": 0.010988,
     "end_time": "2025-04-17T06:21:37.631956",
     "exception": false,
     "start_time": "2025-04-17T06:21:37.620968",
     "status": "completed"
    },
    "tags": []
   },
   "outputs": [],
   "source": [
    "# Split back into train and test\n",
    "train_cleaned = data[:len(train)]\n",
    "test_cleaned = data[len(train):]\n"
   ]
  },
  {
   "cell_type": "code",
   "execution_count": 12,
   "id": "c8f25e6c",
   "metadata": {
    "execution": {
     "iopub.execute_input": "2025-04-17T06:21:37.639773Z",
     "iopub.status.busy": "2025-04-17T06:21:37.639453Z",
     "iopub.status.idle": "2025-04-17T06:21:37.645614Z",
     "shell.execute_reply": "2025-04-17T06:21:37.644608Z"
    },
    "papermill": {
     "duration": 0.012041,
     "end_time": "2025-04-17T06:21:37.647404",
     "exception": false,
     "start_time": "2025-04-17T06:21:37.635363",
     "status": "completed"
    },
    "tags": []
   },
   "outputs": [],
   "source": [
    "X = train_cleaned.drop('Survived', axis=1)\n",
    "y = train_cleaned['Survived']"
   ]
  },
  {
   "cell_type": "code",
   "execution_count": 13,
   "id": "13367bad",
   "metadata": {
    "execution": {
     "iopub.execute_input": "2025-04-17T06:21:37.655625Z",
     "iopub.status.busy": "2025-04-17T06:21:37.655276Z",
     "iopub.status.idle": "2025-04-17T06:21:39.571915Z",
     "shell.execute_reply": "2025-04-17T06:21:39.570669Z"
    },
    "papermill": {
     "duration": 1.923429,
     "end_time": "2025-04-17T06:21:39.574112",
     "exception": false,
     "start_time": "2025-04-17T06:21:37.650683",
     "status": "completed"
    },
    "tags": []
   },
   "outputs": [
    {
     "name": "stdout",
     "output_type": "stream",
     "text": [
      "F1 Score (CV Avg): 0.7541\n",
      "Accuracy Score (CV Avg): 0.8148\n"
     ]
    }
   ],
   "source": [
    "# Train a RandomForest with cross-validation\n",
    "model = RandomForestClassifier(n_estimators=100, random_state=42)\n",
    "cv = StratifiedKFold(n_splits=5, shuffle=True, random_state=42)\n",
    "f1 = cross_val_score(model, X, y, cv=cv, scoring='f1')\n",
    "accuracy = cross_val_score(model, X, y, cv=cv, scoring='accuracy')\n",
    "print(f\"F1 Score (CV Avg): {f1.mean():.4f}\")\n",
    "print(f\"Accuracy Score (CV Avg): {accuracy.mean():.4f}\")"
   ]
  },
  {
   "cell_type": "code",
   "execution_count": 14,
   "id": "adcededb",
   "metadata": {
    "execution": {
     "iopub.execute_input": "2025-04-17T06:21:39.584025Z",
     "iopub.status.busy": "2025-04-17T06:21:39.582758Z",
     "iopub.status.idle": "2025-04-17T06:21:39.795070Z",
     "shell.execute_reply": "2025-04-17T06:21:39.794069Z"
    },
    "papermill": {
     "duration": 0.218881,
     "end_time": "2025-04-17T06:21:39.796792",
     "exception": false,
     "start_time": "2025-04-17T06:21:39.577911",
     "status": "completed"
    },
    "tags": []
   },
   "outputs": [
    {
     "data": {
      "text/html": [
       "<style>#sk-container-id-1 {color: black;background-color: white;}#sk-container-id-1 pre{padding: 0;}#sk-container-id-1 div.sk-toggleable {background-color: white;}#sk-container-id-1 label.sk-toggleable__label {cursor: pointer;display: block;width: 100%;margin-bottom: 0;padding: 0.3em;box-sizing: border-box;text-align: center;}#sk-container-id-1 label.sk-toggleable__label-arrow:before {content: \"▸\";float: left;margin-right: 0.25em;color: #696969;}#sk-container-id-1 label.sk-toggleable__label-arrow:hover:before {color: black;}#sk-container-id-1 div.sk-estimator:hover label.sk-toggleable__label-arrow:before {color: black;}#sk-container-id-1 div.sk-toggleable__content {max-height: 0;max-width: 0;overflow: hidden;text-align: left;background-color: #f0f8ff;}#sk-container-id-1 div.sk-toggleable__content pre {margin: 0.2em;color: black;border-radius: 0.25em;background-color: #f0f8ff;}#sk-container-id-1 input.sk-toggleable__control:checked~div.sk-toggleable__content {max-height: 200px;max-width: 100%;overflow: auto;}#sk-container-id-1 input.sk-toggleable__control:checked~label.sk-toggleable__label-arrow:before {content: \"▾\";}#sk-container-id-1 div.sk-estimator input.sk-toggleable__control:checked~label.sk-toggleable__label {background-color: #d4ebff;}#sk-container-id-1 div.sk-label input.sk-toggleable__control:checked~label.sk-toggleable__label {background-color: #d4ebff;}#sk-container-id-1 input.sk-hidden--visually {border: 0;clip: rect(1px 1px 1px 1px);clip: rect(1px, 1px, 1px, 1px);height: 1px;margin: -1px;overflow: hidden;padding: 0;position: absolute;width: 1px;}#sk-container-id-1 div.sk-estimator {font-family: monospace;background-color: #f0f8ff;border: 1px dotted black;border-radius: 0.25em;box-sizing: border-box;margin-bottom: 0.5em;}#sk-container-id-1 div.sk-estimator:hover {background-color: #d4ebff;}#sk-container-id-1 div.sk-parallel-item::after {content: \"\";width: 100%;border-bottom: 1px solid gray;flex-grow: 1;}#sk-container-id-1 div.sk-label:hover label.sk-toggleable__label {background-color: #d4ebff;}#sk-container-id-1 div.sk-serial::before {content: \"\";position: absolute;border-left: 1px solid gray;box-sizing: border-box;top: 0;bottom: 0;left: 50%;z-index: 0;}#sk-container-id-1 div.sk-serial {display: flex;flex-direction: column;align-items: center;background-color: white;padding-right: 0.2em;padding-left: 0.2em;position: relative;}#sk-container-id-1 div.sk-item {position: relative;z-index: 1;}#sk-container-id-1 div.sk-parallel {display: flex;align-items: stretch;justify-content: center;background-color: white;position: relative;}#sk-container-id-1 div.sk-item::before, #sk-container-id-1 div.sk-parallel-item::before {content: \"\";position: absolute;border-left: 1px solid gray;box-sizing: border-box;top: 0;bottom: 0;left: 50%;z-index: -1;}#sk-container-id-1 div.sk-parallel-item {display: flex;flex-direction: column;z-index: 1;position: relative;background-color: white;}#sk-container-id-1 div.sk-parallel-item:first-child::after {align-self: flex-end;width: 50%;}#sk-container-id-1 div.sk-parallel-item:last-child::after {align-self: flex-start;width: 50%;}#sk-container-id-1 div.sk-parallel-item:only-child::after {width: 0;}#sk-container-id-1 div.sk-dashed-wrapped {border: 1px dashed gray;margin: 0 0.4em 0.5em 0.4em;box-sizing: border-box;padding-bottom: 0.4em;background-color: white;}#sk-container-id-1 div.sk-label label {font-family: monospace;font-weight: bold;display: inline-block;line-height: 1.2em;}#sk-container-id-1 div.sk-label-container {text-align: center;}#sk-container-id-1 div.sk-container {/* jupyter's `normalize.less` sets `[hidden] { display: none; }` but bootstrap.min.css set `[hidden] { display: none !important; }` so we also need the `!important` here to be able to override the default hidden behavior on the sphinx rendered scikit-learn.org. See: https://github.com/scikit-learn/scikit-learn/issues/21755 */display: inline-block !important;position: relative;}#sk-container-id-1 div.sk-text-repr-fallback {display: none;}</style><div id=\"sk-container-id-1\" class=\"sk-top-container\"><div class=\"sk-text-repr-fallback\"><pre>RandomForestClassifier(random_state=42)</pre><b>In a Jupyter environment, please rerun this cell to show the HTML representation or trust the notebook. <br />On GitHub, the HTML representation is unable to render, please try loading this page with nbviewer.org.</b></div><div class=\"sk-container\" hidden><div class=\"sk-item\"><div class=\"sk-estimator sk-toggleable\"><input class=\"sk-toggleable__control sk-hidden--visually\" id=\"sk-estimator-id-1\" type=\"checkbox\" checked><label for=\"sk-estimator-id-1\" class=\"sk-toggleable__label sk-toggleable__label-arrow\">RandomForestClassifier</label><div class=\"sk-toggleable__content\"><pre>RandomForestClassifier(random_state=42)</pre></div></div></div></div></div>"
      ],
      "text/plain": [
       "RandomForestClassifier(random_state=42)"
      ]
     },
     "execution_count": 14,
     "metadata": {},
     "output_type": "execute_result"
    }
   ],
   "source": [
    "model.fit(X, y)"
   ]
  }
 ],
 "metadata": {
  "kaggle": {
   "accelerator": "none",
   "dataSources": [
    {
     "databundleVersionId": 26502,
     "sourceId": 3136,
     "sourceType": "competition"
    }
   ],
   "dockerImageVersionId": 31012,
   "isGpuEnabled": false,
   "isInternetEnabled": true,
   "language": "python",
   "sourceType": "notebook"
  },
  "kernelspec": {
   "display_name": "Python 3",
   "language": "python",
   "name": "python3"
  },
  "language_info": {
   "codemirror_mode": {
    "name": "ipython",
    "version": 3
   },
   "file_extension": ".py",
   "mimetype": "text/x-python",
   "name": "python",
   "nbconvert_exporter": "python",
   "pygments_lexer": "ipython3",
   "version": "3.11.11"
  },
  "papermill": {
   "default_parameters": {},
   "duration": 13.095001,
   "end_time": "2025-04-17T06:21:40.521076",
   "environment_variables": {},
   "exception": null,
   "input_path": "__notebook__.ipynb",
   "output_path": "__notebook__.ipynb",
   "parameters": {},
   "start_time": "2025-04-17T06:21:27.426075",
   "version": "2.6.0"
  }
 },
 "nbformat": 4,
 "nbformat_minor": 5
}
